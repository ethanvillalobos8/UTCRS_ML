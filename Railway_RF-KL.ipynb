{
 "cells": [
  {
   "cell_type": "markdown",
   "id": "c708466a",
   "metadata": {},
   "source": [
    "# Import libraries"
   ]
  },
  {
   "cell_type": "code",
   "execution_count": 1,
   "id": "52badff2",
   "metadata": {},
   "outputs": [],
   "source": [
    "# import libraries\n",
    "import random\n",
    "import numpy as np\n",
    "import pandas as pd\n",
    "import math \n",
    "from sklearn.model_selection import train_test_split\n",
    "from sklearn.impute import SimpleImputer\n",
    "from sklearn.compose import ColumnTransformer\n",
    "from sklearn.preprocessing import OneHotEncoder, MinMaxScaler\n",
    "\n",
    "import scipy\n",
    "from scipy.spatial.distance import pdist, squareform\n",
    "from scipy.stats import chi2\n",
    "import time\n",
    "\n",
    "import matplotlib.pyplot as plt\n",
    "%matplotlib inline\n",
    "import matplotlib.font_manager\n",
    "plt.style.use(['ggplot'])"
   ]
  },
  {
   "cell_type": "markdown",
   "id": "63b3d5d2",
   "metadata": {},
   "source": [
    "# Data preprocessing"
   ]
  },
  {
   "cell_type": "code",
   "execution_count": 3,
   "id": "aa4a3cad-64c3-4491-99f3-0ec624a629f2",
   "metadata": {},
   "outputs": [
    {
     "name": "stdout",
     "output_type": "stream",
     "text": [
      "Original data shape: (239487, 141)\n",
      "Grouped data shape: (52706, 6)\n",
      "Merged data shape: (239487, 142)\n",
      "The size of X_1 after sampling is (119542, 19)\n",
      "The size of y1 after sampling is (119542, 1)\n"
     ]
    }
   ],
   "source": [
    "# Import the dataset\n",
    "# The dataset is Highway-Rail Grade Crossing Accident dataset\n",
    "# Importing the dataset, Highway-Rail Grade Crossing Accident dataset\n",
    "data = pd.read_csv('Highway-Rail_Grade_Crossing_Accident_Data.csv', low_memory=False)\n",
    "print(\"Original data shape:\", data.shape)\n",
    "\n",
    "# Count accidents by unique company pairs\n",
    "grouped_data = data.groupby(['Railroad Code', 'Incident Year', 'State Name', 'Highway User Position', 'Equipment Involved']).size().reset_index(name='Accident Count')\n",
    "print(\"Grouped data shape:\", grouped_data.shape)\n",
    "\n",
    "# Merge the 'Accident Count' column back into the original data\n",
    "merged_data = pd.merge(data, grouped_data, on=['Railroad Code', 'Incident Year', 'State Name', 'Highway User Position', 'Equipment Involved'], how='left')\n",
    "print(\"Merged data shape:\", merged_data.shape)\n",
    "\n",
    "# Define features and target variable\n",
    "categorical_features = ['Highway User Position', 'Equipment Involved']\n",
    "numeric_features = ['Incident Year']\n",
    "target = 'Accident Count'\n",
    "\n",
    "# Drop rows with missing values in the target variable\n",
    "merged_data.dropna(subset=[target], inplace=True)\n",
    "\n",
    "# Convert 'Incident Year' to full year format\n",
    "merged_data['Incident Year'] = merged_data['Incident Year'].apply(lambda year: 2000 + year if year <= 21 else 1900 + year)\n",
    "\n",
    "# Define X and y\n",
    "X = merged_data[numeric_features + categorical_features]\n",
    "y = merged_data[target]\n",
    "y = np.reshape(y, (len(y), 1))\n",
    "\n",
    "# Convert categorical features to numerical data\n",
    "ct = ColumnTransformer(transformers=[('encoder', OneHotEncoder(), categorical_features)], remainder='passthrough')\n",
    "X_transformed = ct.fit_transform(X).toarray()\n",
    "\n",
    "sample_size = int(X_transformed.shape[0] * .5)  \n",
    "\n",
    "rows_id = random.sample(range(X_transformed.shape[0]), sample_size)\n",
    "X_1 = X_transformed[rows_id, :]\n",
    "y1 = y[rows_id]\n",
    "\n",
    "print(\"The size of X_1 after sampling is {}\".format(X_1.shape))\n",
    "print(\"The size of y1 after sampling is {}\".format(y1.shape))"
   ]
  },
  {
   "cell_type": "code",
   "execution_count": 4,
   "id": "cec50f9f",
   "metadata": {},
   "outputs": [
    {
     "name": "stdout",
     "output_type": "stream",
     "text": [
      "The size of training data is (95633, 19)\n",
      "The size of test data is (23909, 19)\n"
     ]
    }
   ],
   "source": [
    "# Splitting the dataset into the Training set and Test set\n",
    "from sklearn.model_selection import train_test_split\n",
    "X_train, X_test, y_train, y_test = train_test_split(X_1, y1, test_size = 0.2, random_state = 0)\n",
    "print(\"The size of training data is {}\".format(X_train.shape))\n",
    "print(\"The size of test data is {}\".format(X_test.shape))"
   ]
  },
  {
   "cell_type": "code",
   "execution_count": 5,
   "id": "0b1a2073",
   "metadata": {},
   "outputs": [],
   "source": [
    "# Normalize the data (fiting the scaler on the training data only)\n",
    "scaler_X = MinMaxScaler().fit(X_train)\n",
    "scaler_y = MinMaxScaler().fit(y_train)\n",
    "X_train_scaled = scaler_X.transform(X_train)\n",
    "y_train_scaled = scaler_y.transform(y_train)\n",
    "X_test_scaled = scaler_X.transform(X_test)\n",
    "y_test_scaled = scaler_y.transform(y_test)"
   ]
  },
  {
   "cell_type": "markdown",
   "id": "491e4ffd",
   "metadata": {},
   "source": [
    "# Train model"
   ]
  },
  {
   "cell_type": "code",
   "execution_count": 6,
   "id": "344d5c32",
   "metadata": {},
   "outputs": [],
   "source": [
    "train_X, train_Y = X_train_scaled.T, y_train_scaled.T\n",
    "test_X, test_Y = X_test_scaled.T, y_test_scaled.T"
   ]
  },
  {
   "cell_type": "code",
   "execution_count": 7,
   "id": "9bed9a3d",
   "metadata": {},
   "outputs": [],
   "source": [
    "def rf_map(X, L, sigma):\n",
    "    # L:  number of random features\n",
    "    np.random.seed(1)\n",
    "    d,_ = X.shape\n",
    "    #generate multivariate normal distribution\n",
    "    Mu = np.zeros(d)     # zero mean     \n",
    "    Sigma = 1/(sigma**2) * np.eye(d)  # covariance matrix\n",
    "    Omega = np.random.multivariate_normal(Mu, Sigma, L)\n",
    "    b = np.random.uniform(0, 2*np.pi, (L, 1))\n",
    "    Phi_X = math.sqrt(2/L) * np.cos(np.dot(Omega, X) + b)\n",
    "    return Phi_X, Omega, b"
   ]
  },
  {
   "cell_type": "code",
   "execution_count": 8,
   "id": "7745dcd2",
   "metadata": {},
   "outputs": [],
   "source": [
    "def compute_cost(yhat, y):\n",
    "    \"\"\"\n",
    "    yhat is the output from fully connected layer (num_classes*num_examples)\n",
    "    y is labels (num_classes*num_examples, y is one-hot encoded vector)\n",
    "    \"\"\"\n",
    "    m = y.shape[1]  #num_examples\n",
    "    diff  = y - yhat\n",
    "    loss = (1/2/m) * np.sum(np.square(diff))   \n",
    "    return loss"
   ]
  },
  {
   "cell_type": "code",
   "execution_count": 9,
   "id": "e24180a3",
   "metadata": {},
   "outputs": [
    {
     "name": "stdout",
     "output_type": "stream",
     "text": [
      "The process takes 1.6124 seconds \n",
      "Train cost is 0.00717179354797892\n",
      "Test MSE is 0.00731100695656135\n",
      "Test RMSE is 0.08550442653197173\n"
     ]
    }
   ],
   "source": [
    "np.random.seed(1)\n",
    "lr = 2\n",
    "lambd = 1e-4\n",
    "L = 200\n",
    "sigma = 3\n",
    "\n",
    "# Initialize parameters\n",
    "train_costs_RF = []\n",
    "test_MSE_RF =[]\n",
    "theta_RF = np.zeros((1, L)) \n",
    "\n",
    "#RF mapping\n",
    "Phi_train, Omega1, b1 = rf_map(train_X, L, sigma)\n",
    "Phi_test, Omega1, b1 = rf_map(test_X, L, sigma)\n",
    "\n",
    "start = time.perf_counter()\n",
    "for i in range(0, 300):\n",
    "    trainY_RF = np.dot(theta_RF, Phi_train)\n",
    "    testY_RF = np.dot(theta_RF, Phi_test)\n",
    "    \n",
    "    # Calculate cost\n",
    "    train_cost_RF = compute_cost(trainY_RF, train_Y) + np.sum(np.square(theta_RF))*lambd/2 \n",
    "    test_mse_RF = compute_cost(testY_RF, test_Y) \n",
    "    \n",
    "    # Calculate gradient\n",
    "    diff_RF = trainY_RF - train_Y\n",
    "    grad_RF = (1/train_Y.shape[1]) * np.dot(diff_RF, Phi_train.T) + lambd*theta_RF\n",
    "    \n",
    "    # Update parameters\n",
    "    theta_RF = theta_RF - lr*grad_RF\n",
    "    \n",
    "    train_costs_RF.append(train_cost_RF)\n",
    "    test_MSE_RF.append(test_mse_RF)\n",
    "\n",
    "test_rmse = math.sqrt(test_MSE_RF[-1])  # Compute RMSE\n",
    "\n",
    "end = time.perf_counter()\n",
    "trf = end - start\n",
    "print(\"The process takes %.4f seconds \" %(trf))\n",
    "print(\"Train cost is \" + str(train_costs_RF[-1]))\n",
    "print(\"Test MSE is \" + str(test_MSE_RF[-1]))\n",
    "print(\"Test RMSE is \" + str(test_rmse))"
   ]
  },
  {
   "cell_type": "code",
   "execution_count": 10,
   "id": "60ddecc1",
   "metadata": {},
   "outputs": [
    {
     "data": {
      "image/png": "[encoded data removed]",
      "text/plain": [
       "<Figure size 1200x800 with 1 Axes>"
      ]
     },
     "metadata": {},
     "output_type": "display_data"
    }
   ],
   "source": [
    "plt.figure(figsize=((12,8)))\n",
    "matplotlib.rc('axes', edgecolor='black', linewidth=3, fc = 'white')\n",
    "plt.rc('xtick',labelsize=10)\n",
    "plt.rc('ytick',labelsize=10)\n",
    "plt.plot(train_costs_RF, 'k-', linewidth=3, label=\"Training costs\")\n",
    "plt.plot(test_MSE_RF, 'r-.', linewidth=3, label=\"Test MSE\")\n",
    "\n",
    "plt.legend(edgecolor = 'black',  handlelength = 2, fontsize=10)\n",
    "plt.ylabel('total cost',fontsize=20)\n",
    "plt.xlabel('iteration',fontsize=20)\n",
    "plt.yscale('log')\n",
    "plt.show()  "
   ]
  },
  {
   "cell_type": "code",
   "execution_count": null,
   "id": "3084914a-36de-4afb-ae42-91b3877a9d4d",
   "metadata": {},
   "outputs": [],
   "source": []
  }
 ],
 "metadata": {
  "kernelspec": {
   "display_name": "Python 3 (ipykernel)",
   "language": "python",
   "name": "python3"
  },
  "language_info": {
   "codemirror_mode": {
    "name": "ipython",
    "version": 3
   },
   "file_extension": ".py",
   "mimetype": "text/x-python",
   "name": "python",
   "nbconvert_exporter": "python",
   "pygments_lexer": "ipython3",
   "version": "3.10.5"
  }
 },
 "nbformat": 4,
 "nbformat_minor": 5
}
